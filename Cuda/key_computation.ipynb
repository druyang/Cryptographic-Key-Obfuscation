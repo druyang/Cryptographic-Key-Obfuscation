{
 "cells": [
  {
   "cell_type": "code",
   "execution_count": 70,
   "metadata": {},
   "outputs": [],
   "source": [
    "import numpy as np\n",
    "import sys\n",
    "import math"
   ]
  },
  {
   "cell_type": "code",
   "execution_count": 71,
   "metadata": {},
   "outputs": [],
   "source": [
    "def gen_matrix(pk, sidelen=16):\n",
    "    \"\"\"\n",
    "    Compute two sidelen x sidelen matricies which can be multiplied in order to compute the private key.\n",
    "    After multiplying these matricies, the resultant matrix is reduced to a single value, and an adjustment\n",
    "    , or intercept value is added to the reduced sum to compute the private key.\n",
    "    \"\"\"\n",
    "    \n",
    "    mean = int(math.sqrt(pk / (sidelen**4))) # mean of the standard random normal distribution\n",
    "    sd = mean // 3  # standard deviation of the random normal distribution\n",
    "    \n",
    "    # generates a sidelen x sidelen random normal matrix with values distributed around base_value\n",
    "    matrix1 = np.random.normal(mean, sd, (sidelen, sidelen)).astype(int)\n",
    "    matrix1 = np.add(matrix1, abs(np.min(matrix1))) # ensure no negative outlier values\n",
    "    \n",
    "    matrix2 = np.random.normal(mean, sd, (sidelen, sidelen)).astype(int)\n",
    "    matrix2 = np.add(matrix2, abs(np.min(matrix2))) # ensure no negative outlier values\n",
    "    \n",
    "    # Multiply matrix\n",
    "    result = np.matmul(matrix1, matrix2).sum()\n",
    "    adjustment = pk - result\n",
    "    print(\"result = {}, adjustment = {}, so PK = {}\".format(result, adjustment, result + adjustment))\n",
    "    \n",
    "    return (matrix1, matrix2, adjustment)"
   ]
  },
  {
   "cell_type": "code",
   "execution_count": 72,
   "metadata": {},
   "outputs": [],
   "source": [
    "def write_key_computation_info(pk, filename=sys.stdout, sidelen=16):\n",
    "\n",
    "    fo = open(filename, 'w') \n",
    "    matrix1, matrix2, adjustment = gen_matrix(pk, sidelen)\n",
    "    print('Matrix sidelen:', sidelen, file=fo)\n",
    "    print('adjustment:',adjustment, file=fo)\n",
    "    print('Matrix 1:', matrix1.flatten().tolist(), file=fo)\n",
    "    print('Matrix 2:', matrix2.flatten().tolist(), file=fo)\n",
    "    fo.close()"
   ]
  },
  {
   "cell_type": "code",
   "execution_count": 73,
   "metadata": {},
   "outputs": [
    {
     "name": "stdout",
     "output_type": "stream",
     "text": [
      "result = 74712851981052915, adjustment = 845690870767227654, so PK = 920403722748280569\n"
     ]
    }
   ],
   "source": [
    "write_key_computation_info(920403722748280569, filename='key_compute.txt')"
   ]
  },
  {
   "cell_type": "code",
   "execution_count": 74,
   "metadata": {},
   "outputs": [
    {
     "name": "stdout",
     "output_type": "stream",
     "text": [
      "result = 64198165260795981, adjustment = 856205557487484588, so PK = 920403722748280569\n"
     ]
    }
   ],
   "source": [
    "matrix1, matrix2, adjustment = gen_matrix(920403722748280569)"
   ]
  },
  {
   "cell_type": "code",
   "execution_count": 75,
   "metadata": {},
   "outputs": [
    {
     "data": {
      "text/plain": [
       "64198165260795981"
      ]
     },
     "execution_count": 75,
     "metadata": {},
     "output_type": "execute_result"
    }
   ],
   "source": [
    "np.matmul(matrix1, matrix2).sum()"
   ]
  },
  {
   "cell_type": "code",
   "execution_count": 76,
   "metadata": {},
   "outputs": [
    {
     "data": {
      "text/plain": [
       "array([[2819966, 4833589, 3423903, 5264439,  908295, 4414525, 5796528,\n",
       "         952681, 2168084, 5334615, 3771387, 4372240, 5437778, 3576140,\n",
       "        2807430, 5129574],\n",
       "       [4095942, 1005886, 3511951, 3426843, 4454112, 4592461, 5417222,\n",
       "        5234442, 5324207, 4604704, 4113944, 4714788, 2664634, 1736152,\n",
       "        3154184, 4609297],\n",
       "       [3767052, 3752617, 3612788, 2536429, 3101373, 5064333, 3300827,\n",
       "        5257504, 5639811, 3365549, 2320901, 4378342, 6055852, 1779272,\n",
       "        2276214, 3210323],\n",
       "       [2874544, 3861180, 5296099, 4169322, 2746498, 7118984, 4941081,\n",
       "        5173501, 1434410, 4804772, 5312024, 1651401, 4604046, 3022459,\n",
       "        2733252, 5212161],\n",
       "       [4878202, 3232410, 4627830, 5371710, 1715733, 1755118, 4083014,\n",
       "        5218328, 3666585, 3770349, 2934700, 3530619, 2716017, 5790616,\n",
       "        4470569, 6260768],\n",
       "       [5032836, 3057285, 3609573, 5128735, 2547108, 1813376, 4621570,\n",
       "        5386959, 4214771, 2522067, 2133845, 4968392, 5324674, 3822240,\n",
       "        4453760, 2184163],\n",
       "       [3244428, 3239665, 3103731, 2552081, 3975905, 3477281, 5121511,\n",
       "        4650186, 4591263, 2286119, 4639438, 2835391, 7072961, 2057249,\n",
       "        4397442, 5180474],\n",
       "       [3222348, 4937686, 4347948, 1992232, 2631456, 4615745, 3726765,\n",
       "        4910392, 6390142, 4593255, 3341587, 3296700, 4273155, 4873994,\n",
       "        3163982, 1722975],\n",
       "       [6419049, 4786371, 4083691, 4912535, 5622009, 1027292, 3059234,\n",
       "        3940568, 6085518, 4679238, 4740112, 4264884, 3895664, 4305102,\n",
       "        1824605, 4391748],\n",
       "       [1517385, 4150559, 5571232, 5801339, 4146792, 3920477, 1249566,\n",
       "        3775525, 3357558, 2688960, 4462876, 4071063, 2793928, 2327506,\n",
       "        4376824, 1169732],\n",
       "       [3227852, 5305078, 6298001, 6622910, 3600495, 3939926, 3553044,\n",
       "        3794620, 3780515, 5689520, 3963670, 1301729, 3046679, 4525758,\n",
       "        4093782, 4644180],\n",
       "       [4327100, 5505325, 3355933, 3792417, 2793701, 3086899, 4911822,\n",
       "        2621367, 4493701, 3285782, 4465263, 4218501, 5569637, 3168523,\n",
       "        2729088, 2703863],\n",
       "       [2525758, 4526035, 1760560, 3771336, 3363720, 5006711, 2019488,\n",
       "        5344481, 6333270, 2203269, 3227760, 5108317, 4909478, 2996328,\n",
       "        6076145, 2425635],\n",
       "       [4246980, 3377823, 3172441, 2999699, 3643938, 5031495, 5041689,\n",
       "        3530875, 5630939, 4779483, 1215540, 2537955, 5348678, 3384784,\n",
       "        2418244, 3021883],\n",
       "       [3401142, 4832514, 4748971, 2500243, 4273861, 4094351, 3849207,\n",
       "              0, 3861469, 5131950, 3278231, 5569034, 3156495, 4525566,\n",
       "        3020804, 5197619],\n",
       "       [3422510, 4915711, 4855532, 3789184, 2977320, 2170407, 6448489,\n",
       "        4853268, 3950171, 3971487, 1377217, 3643531, 2541217, 5771319,\n",
       "        6173218, 4295278]])"
      ]
     },
     "execution_count": 76,
     "metadata": {},
     "output_type": "execute_result"
    }
   ],
   "source": [
    "matrix2"
   ]
  },
  {
   "cell_type": "code",
   "execution_count": null,
   "metadata": {},
   "outputs": [],
   "source": []
  }
 ],
 "metadata": {
  "kernelspec": {
   "display_name": "base",
   "language": "python",
   "name": "base"
  },
  "language_info": {
   "codemirror_mode": {
    "name": "ipython",
    "version": 3
   },
   "file_extension": ".py",
   "mimetype": "text/x-python",
   "name": "python",
   "nbconvert_exporter": "python",
   "pygments_lexer": "ipython3",
   "version": "3.7.6"
  }
 },
 "nbformat": 4,
 "nbformat_minor": 4
}
