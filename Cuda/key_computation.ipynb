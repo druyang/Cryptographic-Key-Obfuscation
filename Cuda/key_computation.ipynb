{
 "cells": [
  {
   "cell_type": "code",
   "execution_count": 38,
   "metadata": {},
   "outputs": [],
   "source": [
    "import numpy as np\n",
    "import sys\n",
    "import math"
   ]
  },
  {
   "cell_type": "code",
   "execution_count": 55,
   "metadata": {},
   "outputs": [],
   "source": [
    "def gen_matrix(pk, sidelen=16):\n",
    "    \"\"\"\n",
    "    Compute two sidelen x sidelen matricies which can be multiplied in order to compute the private key.\n",
    "    After multiplying these matricies, the resultant matrix is reduced to a single value, and an adjustment\n",
    "    , or intercept value is added to the reduced sum to compute the private key.\n",
    "    \"\"\"\n",
    "    \n",
    "    mean = int(math.sqrt(pk / (sidelen**4))) # mean of the standard random normal distribution\n",
    "    sd = mean // 3  # standard deviation of the random normal distribution\n",
    "    \n",
    "    # generates a sidelen x sidelen random normal matrix with values distributed around base_value\n",
    "    matrix1 = np.random.normal(mean, sd, (sidelen, sidelen)).astype(int)\n",
    "    matrix2 = np.random.normal(mean, sd, (sidelen, sidelen)).astype(int)    \n",
    "    result = (matrix1 * matrix2).sum()\n",
    "    adjustment = pk - result\n",
    "    print(\"result = {}, adjustment = {}, so PK = {}\".format(result, adjustment, result + adjustment))\n",
    "    \n",
    "    return (matrix1, matrix2, adjustment)\n",
    "    "
   ]
  },
  {
   "cell_type": "code",
   "execution_count": 72,
   "metadata": {},
   "outputs": [],
   "source": [
    "def write_key_computation_info(pk, filename=sys.stdout, sidelen=16):\n",
    "\n",
    "    fo = open(filename, 'w') \n",
    "    matrix1, matrix2, adjustment = gen_matrix(pk, sidelen)\n",
    "    print('Matrix sidelen:', sidelen, file=fo)\n",
    "    print('adjustment:',adjustment, file=fo)\n",
    "    print('Matrix 1:', matrix1.flatten().tolist(), file=fo)\n",
    "    print('Matrix 2:', matrix2.flatten().tolist(), file=fo)\n",
    "    fo.close()"
   ]
  },
  {
   "cell_type": "code",
   "execution_count": 74,
   "metadata": {},
   "outputs": [
    {
     "name": "stdout",
     "output_type": "stream",
     "text": [
      "result = 3687428774070856, adjustment = 916716293974209713, so PK = 920403722748280569\n"
     ]
    }
   ],
   "source": [
    "write_key_computation_info(920403722748280569, filename='key_compute.txt')"
   ]
  }
 ],
 "metadata": {
  "kernelspec": {
   "display_name": "base",
   "language": "python",
   "name": "base"
  },
  "language_info": {
   "codemirror_mode": {
    "name": "ipython",
    "version": 3
   },
   "file_extension": ".py",
   "mimetype": "text/x-python",
   "name": "python",
   "nbconvert_exporter": "python",
   "pygments_lexer": "ipython3",
   "version": "3.7.6"
  }
 },
 "nbformat": 4,
 "nbformat_minor": 4
}
