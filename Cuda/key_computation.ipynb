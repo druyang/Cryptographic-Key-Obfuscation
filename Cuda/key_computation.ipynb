{
 "cells": [
  {
   "cell_type": "code",
   "execution_count": 62,
   "metadata": {},
   "outputs": [],
   "source": [
    "import numpy as np\n",
    "import sys\n",
    "import math"
   ]
  },
  {
   "cell_type": "code",
   "execution_count": 63,
   "metadata": {},
   "outputs": [],
   "source": [
    "def gen_matrix(pk, sidelen=16):\n",
    "    \"\"\"\n",
    "    Compute two sidelen x sidelen matricies which can be multiplied in order to compute the private key.\n",
    "    After multiplying these matricies, the resultant matrix is reduced to a single value, and an adjustment\n",
    "    , or intercept value is added to the reduced sum to compute the private key.\n",
    "    \"\"\"\n",
    "    \n",
    "    mean = int(math.sqrt(pk / (sidelen**4))) # mean of the standard random normal distribution\n",
    "    sd = mean // 3  # standard deviation of the random normal distribution\n",
    "    \n",
    "    # generates a sidelen x sidelen random normal matrix with values distributed around base_value\n",
    "    matrix1 = np.random.normal(mean, sd, (sidelen, sidelen)).astype(int)\n",
    "    np.add(matrix1, abs(np.min(matrix1))) # ensure no negative outlier values\n",
    "    \n",
    "    matrix2 = np.random.normal(mean, sd, (sidelen, sidelen)).astype(int)\n",
    "    np.add(matrix2, abs(np.min(matrix2))) # ensure no negative outlier values\n",
    "    \n",
    "    # Multiply matrix\n",
    "    result = np.matmul(matrix1, matrix2).sum()\n",
    "    adjustment = pk - result\n",
    "    print(\"result = {}, adjustment = {}, so PK = {}\".format(result, adjustment, result + adjustment))\n",
    "    \n",
    "    return (matrix1, matrix2, adjustment)"
   ]
  },
  {
   "cell_type": "code",
   "execution_count": 64,
   "metadata": {},
   "outputs": [],
   "source": [
    "def write_key_computation_info(pk, filename=sys.stdout, sidelen=16):\n",
    "\n",
    "    fo = open(filename, 'w') \n",
    "    matrix1, matrix2, adjustment = gen_matrix(pk, sidelen)\n",
    "    print('Matrix sidelen:', sidelen, file=fo)\n",
    "    print('adjustment:',adjustment, file=fo)\n",
    "    print('Matrix 1:', matrix1.flatten().tolist(), file=fo)\n",
    "    print('Matrix 2:', matrix2.flatten().tolist(), file=fo)\n",
    "    fo.close()"
   ]
  },
  {
   "cell_type": "code",
   "execution_count": 65,
   "metadata": {},
   "outputs": [
    {
     "name": "stdout",
     "output_type": "stream",
     "text": [
      "result = 57292342149962505, adjustment = 863111380598318064, so PK = 920403722748280569\n"
     ]
    }
   ],
   "source": [
    "write_key_computation_info(920403722748280569, filename='key_compute.txt')"
   ]
  },
  {
   "cell_type": "code",
   "execution_count": 66,
   "metadata": {},
   "outputs": [
    {
     "name": "stdout",
     "output_type": "stream",
     "text": [
      "result = 55399669927270622, adjustment = 865004052821009947, so PK = 920403722748280569\n"
     ]
    }
   ],
   "source": [
    "matrix1, matrix2, adjustment = gen_matrix(920403722748280569)"
   ]
  },
  {
   "cell_type": "code",
   "execution_count": 67,
   "metadata": {},
   "outputs": [
    {
     "data": {
      "text/plain": [
       "55399669927270622"
      ]
     },
     "execution_count": 67,
     "metadata": {},
     "output_type": "execute_result"
    }
   ],
   "source": [
    "np.matmul(matrix1, matrix2).sum()"
   ]
  }
 ],
 "metadata": {
  "kernelspec": {
   "display_name": "base",
   "language": "python",
   "name": "base"
  },
  "language_info": {
   "codemirror_mode": {
    "name": "ipython",
    "version": 3
   },
   "file_extension": ".py",
   "mimetype": "text/x-python",
   "name": "python",
   "nbconvert_exporter": "python",
   "pygments_lexer": "ipython3",
   "version": "3.7.6"
  }
 },
 "nbformat": 4,
 "nbformat_minor": 4
}
